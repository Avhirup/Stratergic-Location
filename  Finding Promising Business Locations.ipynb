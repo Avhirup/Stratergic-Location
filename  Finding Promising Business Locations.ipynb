{
 "cells": [
  {
   "cell_type": "markdown",
   "metadata": {},
   "source": [
    "## Strategic Location using Facebook Analytics\n",
    "\n",
    "If you were to open your own cafe, would you not want to effortlessly identify the most suitable location to set up your shop? Choosing an optimal physical location is a critical decision for numerous businesses, as many factors contribute to the final choice of the location.\n",
    "Features selected:\n",
    "* category of cafe\n",
    "* category of neighboring cafes\n",
    "* checkins of localities"
   ]
  },
  {
   "cell_type": "code",
   "execution_count": 31,
   "metadata": {
    "collapsed": false
   },
   "outputs": [
    {
     "data": {
      "text/plain": [
       "False"
      ]
     },
     "execution_count": 31,
     "metadata": {},
     "output_type": "execute_result"
    }
   ],
   "source": [
    "#preprocessing\n",
    "import pandas as pd\n",
    "import numpy as np\n",
    "\n",
    "def JsontoDataFrame(jsonFile):\n",
    "    data=pd.read_json(jsonFile)\n",
    "    data=data.as_matrix()\n",
    "    data= data.transpose()\n",
    "    data=pd.DataFrame(data,columns=['Category','Check-Ins','Latitude','Likes','Longitude','Name'])\n",
    "    return data\n",
    "\n",
    "def filterFoodRelated(data):\n",
    "    totalIndex=0\n",
    "    remIndex=[]\n",
    "    keepIndex=[]\n",
    "    uniqueCategories=[]\n",
    "    frConstraints=['Diner','Fruit','Vegetable','Caterer','Bar','Pub','Grill','Hotel','Restaurant','Lounge','Pizza Place','Dessert Shop','Coffee','Food','Beverage','Cafe']\n",
    "    \n",
    "    for index,rows in data.iterrows():\n",
    "        #print index,rows['Category']\n",
    "        for cat in rows['Category']:\n",
    "            categorysublist=cat.split(' ')\n",
    "            if len(set(categorysublist).intersection(frConstraints))>0:\n",
    "                keepIndex.append(index)\n",
    "                uniqueCategories.append(cat)\n",
    "                break\n",
    "            \n",
    "        totalIndex=index\n",
    "    \n",
    "    remIndex=list(set(range(totalIndex+1))-set(keepIndex))\n",
    "    data=data.drop(data.index[remIndex]).reset_index(drop=True)\n",
    "    return data,list(set(uniqueCategories))\n",
    "    \n",
    "all_data=JsontoDataFrame('fbData.json')\n",
    "food_data,unique_categories=filterFoodRelated(all_data)\n",
    "'Travel Company'in unique_categories"
   ]
  },
  {
   "cell_type": "code",
   "execution_count": 34,
   "metadata": {
    "collapsed": false
   },
   "outputs": [
    {
     "name": "stdout",
     "output_type": "stream",
     "text": [
      "Bar & Grill\n",
      "Barbecue Restaurant\n",
      "Indian Restaurant\n",
      "Indian Restaurant\n",
      "Bar & Grill\n",
      "Food & Beverage\n",
      "Food & Beverage Company\n",
      "Lounge\n",
      "Italian Restaurant\n",
      "Cafe\n",
      "Coffee Shop\n",
      "Asian Fusion Restaurant\n",
      "Vegetarian/Vegan Restaurant\n",
      "Hotel\n",
      "Fast Food Restaurant\n",
      "Tapas Bar & Restaurant\n",
      "Lounge\n",
      "Restaurant\n",
      "Diner\n",
      "Restaurant\n",
      "Coffee Shop\n",
      "Tex-Mex Restaurant\n",
      "Family Style Restaurant\n",
      "Soup Restaurant\n",
      "Hotel\n",
      "Bar\n",
      "Pub\n",
      "Restaurant\n",
      "Bar & Grill\n",
      "Bar\n",
      "Hotel\n",
      "Indian Chinese Restaurant\n",
      "Family Style Restaurant\n",
      "Lounge\n",
      "Indian Restaurant\n",
      "Hotel & Lodging\n",
      "Sports Bar\n",
      "Italian Restaurant\n",
      "Asian Fusion Restaurant\n",
      "Hotel\n",
      "Food & Beverage\n",
      "Restaurant\n",
      "Hotel\n",
      "Diner\n",
      "Coffee Shop\n",
      "Hotel Resort\n",
      "French Restaurant\n",
      "Caterer\n",
      "Bar & Grill\n",
      "Burger Restaurant\n",
      "Diner\n",
      "Bar & Grill\n",
      "Fruit & Vegetable Store\n",
      "Indian Restaurant\n",
      "Continental Restaurant\n",
      "Cafe\n",
      "Indian Restaurant\n",
      "Bar\n",
      "Cafe\n",
      "Asian Restaurant\n",
      "Bar & Grill\n",
      "Hotel & Lodging\n",
      "Indian Restaurant\n",
      "Fast Food Restaurant\n",
      "Diner\n",
      "Restaurant\n",
      "Lounge\n",
      "Pub\n",
      "Restaurant\n",
      "Restaurant\n",
      "Lounge\n",
      "Hotel\n",
      "Restaurant\n",
      "Food & Beverage Company\n",
      "Food & Beverage\n",
      "Hotel & Lodging\n",
      "Hotel\n",
      "Asian Restaurant\n",
      "Buffet Restaurant\n",
      "Hotel\n",
      "Lounge\n",
      "Fast Food Restaurant\n",
      "Restaurant\n",
      "Food & Beverage\n",
      "Lounge\n",
      "Bar & Grill\n",
      "Italian Restaurant\n",
      "Cafe\n",
      "Fast Food Restaurant\n",
      "Cafe\n",
      "Cafe\n",
      "Restaurant\n",
      "Sports Bar\n",
      "Bar\n",
      "Food Wholesaler\n",
      "Lounge\n",
      "Cafe\n",
      "Bar & Grill\n"
     ]
    }
   ],
   "source": [
    "#Label Binarizer Encoding Categories\n",
    "from sklearn import preprocessing\n",
    "lb=preprocessing.LabelBinarizer()\n",
    "lb.fit(unique_categories)\n",
    "\n",
    "def orCategories(bcat1,bcat2):\n",
    "    \"\"\"\n",
    "    Oring Category Codes \n",
    "    \"\"\"\n",
    "    result_cat=[]\n",
    "    for val1,val2 in zip(bcat1,bcat2):\n",
    "        if val1==1 or val2==1:\n",
    "            result_cat.append(1)\n",
    "        else:\n",
    "            result_cat.append(0)\n",
    "    #print 'res',result_cat\n",
    "    return result_cat\n",
    "\n",
    "def addBinaryCategoryData(data):\n",
    "    \"\"\"\n",
    "    Finding Binary Category Codes of all entries\n",
    "    \"\"\"\n",
    "    binary_category=[]\n",
    "    for catlist in data[\"Category\"]:\n",
    "        final_category=[0]*len(lb.classes_)\n",
    "        for cat in catlist:\n",
    "            if cat in unique_categories:\n",
    "                print cat\n",
    "                binary_encoded_cat=lb.transform([str(cat)])[0]\n",
    "                finalcat=orCategories(final_category,binary_encoded_cat)\n",
    "                binary_category.append(finalcat)\n",
    "    return binary_category\n",
    "\n",
    "food_data['Category Code']=pd.Series(addBinaryCategoryData(food_data))\n",
    "\n"
   ]
  },
  {
   "cell_type": "code",
   "execution_count": null,
   "metadata": {
    "collapsed": false
   },
   "outputs": [],
   "source": []
  },
  {
   "cell_type": "code",
   "execution_count": 38,
   "metadata": {
    "collapsed": false
   },
   "outputs": [],
   "source": [
    "#Finding Neigbouring Food related Joints\n",
    "from math import radians, cos, sin, asin, sqrt\n",
    "\n",
    "def haversine_dist(lon1, lat1, lon2, lat2):\n",
    "    \"\"\"\n",
    "    Calculate the great circle distance between two points \n",
    "    on the earth (specified in decimal degrees)\n",
    "    \"\"\"\n",
    "    # convert decimal degrees to radians \n",
    "    lon1, lat1, lon2, lat2 = map(radians, [lon1, lat1, lon2, lat2])\n",
    "    # haversine formula \n",
    "    dlon = lon2 - lon1 \n",
    "    dlat = lat2 - lat1 \n",
    "    a = sin(dlat/2)**2 + cos(lat1) * cos(lat2) * sin(dlon/2)**2\n",
    "    c = 2 * asin(sqrt(a)) \n",
    "    m = 6367 * c*1000\n",
    "    return m\n",
    "\n",
    "\n",
    "def findNeighbors(data,target_latitude,target_longitude,distance,is_food_related=True):\n",
    "    \"\"\"\n",
    "    Finding Neighbors to a given point on map\n",
    "    \"\"\"\n",
    "    neighbor_name=[]\n",
    "    neighbor_category=[0]*len(lb.classes_)\n",
    "    neighbor_checkins=0\n",
    "    if is_food_related:\n",
    "        for latitude,longitude,name,binary_category,check_in in zip(data['Latitude'],data['Longitude'],data['Name'],data['Category Code'],data['Check-Ins']):\n",
    "            neighbor_latitide=latitude\n",
    "            neighbor_longitude=longitude\n",
    "            if haversine_dist(target_longitude,target_latitude,neighbor_longitude,neighbor_latitide) < distance and target_longitude!=neighbor_longitude and neighbor_latitide!=target_latitude:\n",
    "                neighbor_name.append(name)\n",
    "                if is_food_related:\n",
    "                    neighbor_category=orCategories(neighbor_category,binary_category)\n",
    "                neighbor_checkins=neighbor_checkins+check_in\n",
    "    else:\n",
    "        for latitude,longitude,name,check_in in zip(data['Latitude'],data['Longitude'],data['Name'],data['Check-Ins']):\n",
    "            neighbor_latitide=latitude\n",
    "            neighbor_longitude=longitude\n",
    "            if haversine_dist(target_longitude,target_latitude,neighbor_longitude,neighbor_latitide) < distance and target_longitude!=neighbor_longitude and neighbor_latitide!=target_latitude:\n",
    "                neighbor_name.append(name)\n",
    "                neighbor_checkins=neighbor_checkins+check_in\n",
    "    return neighbor_name,neighbor_category,neighbor_checkins\n",
    "         \n",
    "def findAllNeighbors(distance,is_food_related=True,*data):\n",
    "    DISTANCE=distance\n",
    "    all_neighbour_name=[]\n",
    "    all_neighbour_category=[]\n",
    "    all_neighbour_checkins=[]\n",
    "    if is_food_related:\n",
    "        for lat,lon in zip(data[0]['Latitude'],data[0]['Longitude']):\n",
    "            neighbor_name,neighbor_category,neighbor_checkins=findNeighbors(data[0],lat,lon,DISTANCE,True)\n",
    "            all_neighbour_name.append(neighbor_name)\n",
    "            all_neighbour_category.append(neighbor_category)\n",
    "            all_neighbour_checkins.append(neighbor_checkins)\n",
    "    \n",
    "    else:\n",
    "        food_related_joints=data[0]['Name']\n",
    "        for lat,lon,name in zip(data[1]['Latitude'],data[1]['Longitude'],data[1]['Name']):\n",
    "            #Error in this line\n",
    "            #print name in food_related_joints returns false\n",
    "            if name[0] in food_related_joints[0]:\n",
    "                for lat,lon in zip(data[1]['Latitude'],data[1]['Longitude']):\n",
    "                    neighbor_name,neighbor_category,neighbor_checkins=findNeighbors(data[1],lat,lon,DISTANCE,False)\n",
    "                    all_neighbour_name.append(neighbor_name)\n",
    "                    all_neighbour_checkins.append(neighbor_checkins)  \n",
    "\n",
    "    return all_neighbour_name,all_neighbour_category,all_neighbour_checkins\n",
    "\n",
    "    \n",
    "\n",
    "def findAverageNeighborCheckIns(data,is_food_related=True):\n",
    "    average_neigbor_checkins=[]\n",
    "    if is_food_related:\n",
    "        column_total_check_ins='Food-Related Neighbor Total Check-Ins'\n",
    "        column_neigbor_names='Food-Related Neighbor Names'\n",
    "    else:\n",
    "        column_total_check_ins='All Neighbor Total Check-Ins'\n",
    "        column_neigbor_names='All Neighbor Names'\n",
    "    for neigbors,check_ins in zip(data[column_neigbor_names],data[column_total_check_ins]):\n",
    "        average_neigbor_checkins.append(check_ins/len(neigbors))\n",
    "    return average_neigbor_checkins\n",
    "    \n",
    "    \n",
    "    \n",
    "\n"
   ]
  },
  {
   "cell_type": "code",
   "execution_count": 39,
   "metadata": {
    "collapsed": true
   },
   "outputs": [],
   "source": [
    "#Food Related DataFrame Modification\n",
    "all_neighbour_name,all_neighbour_category,all_neighbour_checkins=findAllNeighbors(1000,True,food_data,all_data) \n",
    "\n",
    "food_data['Food-Related Neighbor Names']=pd.Series(all_neighbour_name)\n",
    "food_data['Food-Related Neighbor Category Codes']=pd.Series(all_neighbour_category)\n",
    "food_data['Food-Related Neighbor Total Check-Ins']=pd.Series(all_neighbour_checkins)\n",
    "#food_data.drop('Food-Related Neighbor Check-Ins', axis=1, inplace=True)\n",
    "food_data['Food-Related Neighbor Average Check-Ins']=pd.Series(findAverageNeighborCheckIns(food_data))"
   ]
  },
  {
   "cell_type": "code",
   "execution_count": 40,
   "metadata": {
    "collapsed": false
   },
   "outputs": [],
   "source": [
    "#All Neighbors DataFrame Modification\n",
    "all_neighbour_name,all_neighbour_category,all_neighbour_checkins=findAllNeighbors(1000,False,food_data,all_data) \n",
    "\n",
    "food_data['All Neighbor Names']=pd.Series(all_neighbour_name)\n",
    "food_data['All Neighbor Total Check-Ins']=pd.Series(all_neighbour_checkins)\n",
    "food_data['All Neighbor Average Check-Ins']=pd.Series(findAverageNeighborCheckIns(food_data,False))\n",
    "#food_data.drop('All Neighbor Category Codes', axis=1, inplace=True)\n"
   ]
  },
  {
   "cell_type": "code",
   "execution_count": 43,
   "metadata": {
    "collapsed": false
   },
   "outputs": [],
   "source": [
    "#Rearranging Columns\n",
    "food_data=food_data[['Name','Category','Likes','Check-Ins','Latitude','Longitude','Category Code','Food-Related Neighbor Names','Food-Related Neighbor Category Codes',\n",
    "                    'Food-Related Neighbor Total Check-Ins','Food-Related Neighbor Average Check-Ins','All Neighbor Names','All Neighbor Total Check-Ins'\n",
    "                    ,'All Neighbor Average Check-Ins']]\n",
    "data_of_interest=food_data[['Name','Category','Likes','Check-Ins','Category Code','Food-Related Neighbor Category Codes',\n",
    "                    'Food-Related Neighbor Total Check-Ins','Food-Related Neighbor Average Check-Ins','All Neighbor Total Check-Ins'\n",
    "                    ,'All Neighbor Average Check-Ins']]\n"
   ]
  },
  {
   "cell_type": "code",
   "execution_count": 44,
   "metadata": {
    "collapsed": false
   },
   "outputs": [],
   "source": [
    "#Transfering to csv\n",
    "data_of_interest.to_csv('Final Data.csv',encoding='utf8')"
   ]
  },
  {
   "cell_type": "code",
   "execution_count": 70,
   "metadata": {
    "collapsed": false
   },
   "outputs": [
    {
     "ename": "NameError",
     "evalue": "name 'ensemble' is not defined",
     "output_type": "error",
     "traceback": [
      "\u001b[1;31m-----------------------------------------------------------------------\u001b[0m",
      "\u001b[1;31mNameError\u001b[0m                             Traceback (most recent call last)",
      "\u001b[1;32m<ipython-input-70-19cadb3b3ac9>\u001b[0m in \u001b[0;36m<module>\u001b[1;34m()\u001b[0m\n\u001b[0;32m      4\u001b[0m params = {'n_estimators': 500, 'max_depth': 4, 'min_samples_split': 2,\n\u001b[0;32m      5\u001b[0m           'learning_rate': 0.01, 'loss': 'ls','verbose':1}\n\u001b[1;32m----> 6\u001b[1;33m \u001b[0mrgr\u001b[0m \u001b[1;33m=\u001b[0m \u001b[0mensemble\u001b[0m\u001b[1;33m.\u001b[0m\u001b[0mGradientBoostingRegressor\u001b[0m\u001b[1;33m(\u001b[0m\u001b[1;33m**\u001b[0m\u001b[0mparams\u001b[0m\u001b[1;33m)\u001b[0m\u001b[1;33m\u001b[0m\u001b[0m\n\u001b[0m\u001b[0;32m      7\u001b[0m rgr.fit(data_of_interest[['Category Code','Food-Related Neighbor Category Codes','Food-Related Neighbor Total Check-Ins'\n\u001b[0;32m      8\u001b[0m                          ,'Food-Related Neighbor Average Check-Ins','All Neighbor Total Check-Ins','All Neighbor Average Check-Ins']].as_matrix,\n",
      "\u001b[1;31mNameError\u001b[0m: name 'ensemble' is not defined"
     ]
    }
   ],
   "source": [
    "#Traininf a model\n",
    "from sklearn.ensemble import GradientBoostingRegressor\n",
    "\n",
    "params = {'n_estimators': 500, 'max_depth': 4, 'min_samples_split': 2,\n",
    "          'learning_rate': 0.01, 'loss': 'ls','verbose':1}\n",
    "rgr = ensemble.GradientBoostingRegressor(**params)\n",
    "rgr.fit(data_of_interest[['Category Code','Food-Related Neighbor Category Codes','Food-Related Neighbor Total Check-Ins'\n",
    "                         ,'Food-Related Neighbor Average Check-Ins','All Neighbor Total Check-Ins','All Neighbor Average Check-Ins']].as_matrix,\n",
    "       data_of_interest[['Check-Ins']])"
   ]
  },
  {
   "cell_type": "code",
   "execution_count": 71,
   "metadata": {
    "collapsed": false
   },
   "outputs": [],
   "source": [
    "from sklearn.linear_model import LinearRegression\n",
    "\n",
    "params = {'n_estimators': 500, 'max_depth': 4, 'min_samples_split': 2,\n",
    "          'learning_rate': 0.01, 'loss': 'ls','verbose':1}\n",
    "X_train=data_of_interest[['Category Code','Food-Related Neighbor Category Codes','Food-Related Neighbor Total Check-Ins'\n",
    "                         ,'Food-Related Neighbor Average Check-Ins','All Neighbor Total Check-Ins','All Neighbor Average Check-Ins']]\n",
    "Y_train=data_of_interest[['Check-Ins']]\n",
    "rgr = LinearRegression()"
   ]
  },
  {
   "cell_type": "code",
   "execution_count": 75,
   "metadata": {
    "collapsed": false
   },
   "outputs": [
    {
     "ename": "AttributeError",
     "evalue": "'numpy.float64' object has no attribute 'reverse'",
     "output_type": "error",
     "traceback": [
      "\u001b[1;31m-----------------------------------------------------------------------\u001b[0m",
      "\u001b[1;31mAttributeError\u001b[0m                        Traceback (most recent call last)",
      "\u001b[1;32m<ipython-input-75-ac732845605d>\u001b[0m in \u001b[0;36m<module>\u001b[1;34m()\u001b[0m\n\u001b[0;32m     23\u001b[0m \u001b[1;33m\u001b[0m\u001b[0m\n\u001b[0;32m     24\u001b[0m \u001b[1;33m\u001b[0m\u001b[0m\n\u001b[1;32m---> 25\u001b[1;33m \u001b[0mcategory_decode\u001b[0m\u001b[1;33m,\u001b[0m\u001b[0mneighbor_category_decode\u001b[0m\u001b[1;33m=\u001b[0m\u001b[0mconvertCodeToNumber\u001b[0m\u001b[1;33m(\u001b[0m\u001b[0mX_train\u001b[0m\u001b[1;33m)\u001b[0m\u001b[1;33m\u001b[0m\u001b[0m\n\u001b[0m\u001b[0;32m     26\u001b[0m \u001b[0mX_train\u001b[0m\u001b[1;33m[\u001b[0m\u001b[1;34m'Category Code'\u001b[0m\u001b[1;33m]\u001b[0m\u001b[1;33m=\u001b[0m\u001b[0mpd\u001b[0m\u001b[1;33m.\u001b[0m\u001b[0mSeries\u001b[0m\u001b[1;33m(\u001b[0m\u001b[0mcategory_decode\u001b[0m\u001b[1;33m)\u001b[0m\u001b[1;33m\u001b[0m\u001b[0m\n\u001b[0;32m     27\u001b[0m \u001b[0mX_train\u001b[0m\u001b[1;33m[\u001b[0m\u001b[1;34m'Food-Related Neighbor Category Codes'\u001b[0m\u001b[1;33m]\u001b[0m\u001b[1;33m=\u001b[0m\u001b[0mpd\u001b[0m\u001b[1;33m.\u001b[0m\u001b[0mSeries\u001b[0m\u001b[1;33m(\u001b[0m\u001b[0mneighbor_category_decode\u001b[0m\u001b[1;33m)\u001b[0m\u001b[1;33m\u001b[0m\u001b[0m\n",
      "\u001b[1;32m<ipython-input-75-ac732845605d>\u001b[0m in \u001b[0;36mconvertCodeToNumber\u001b[1;34m(data)\u001b[0m\n\u001b[0;32m     15\u001b[0m     \u001b[0mneighbor_category_decode\u001b[0m\u001b[1;33m=\u001b[0m\u001b[1;33m[\u001b[0m\u001b[1;33m]\u001b[0m\u001b[1;33m\u001b[0m\u001b[0m\n\u001b[0;32m     16\u001b[0m     \u001b[1;32mfor\u001b[0m \u001b[0mcat_code\u001b[0m\u001b[1;33m,\u001b[0m\u001b[0mn_cat_code\u001b[0m \u001b[1;32min\u001b[0m \u001b[0mzip\u001b[0m\u001b[1;33m(\u001b[0m\u001b[0mdata\u001b[0m\u001b[1;33m[\u001b[0m\u001b[1;34m'Category Code'\u001b[0m\u001b[1;33m]\u001b[0m\u001b[1;33m,\u001b[0m\u001b[0mdata\u001b[0m\u001b[1;33m[\u001b[0m\u001b[1;34m'Food-Related Neighbor Category Codes'\u001b[0m\u001b[1;33m]\u001b[0m\u001b[1;33m)\u001b[0m\u001b[1;33m:\u001b[0m\u001b[1;33m\u001b[0m\u001b[0m\n\u001b[1;32m---> 17\u001b[1;33m         \u001b[0mcategory_decode\u001b[0m\u001b[1;33m.\u001b[0m\u001b[0mappend\u001b[0m\u001b[1;33m(\u001b[0m\u001b[0mconvertBinaryArrayToNumber\u001b[0m\u001b[1;33m(\u001b[0m\u001b[0mcat_code\u001b[0m\u001b[1;33m)\u001b[0m\u001b[1;33m)\u001b[0m\u001b[1;33m\u001b[0m\u001b[0m\n\u001b[0m\u001b[0;32m     18\u001b[0m         \u001b[0mneighbor_category_decode\u001b[0m\u001b[1;33m.\u001b[0m\u001b[0mappend\u001b[0m\u001b[1;33m(\u001b[0m\u001b[0mconvertBinaryArrayToNumber\u001b[0m\u001b[1;33m(\u001b[0m\u001b[0mn_cat_code\u001b[0m\u001b[1;33m)\u001b[0m\u001b[1;33m)\u001b[0m\u001b[1;33m\u001b[0m\u001b[0m\n\u001b[0;32m     19\u001b[0m         \u001b[1;31m#category_decode.append(lb.inverse_transform(cat_code))\u001b[0m\u001b[1;33m\u001b[0m\u001b[1;33m\u001b[0m\u001b[0m\n",
      "\u001b[1;32m<ipython-input-75-ac732845605d>\u001b[0m in \u001b[0;36mconvertBinaryArrayToNumber\u001b[1;34m(array)\u001b[0m\n\u001b[0;32m      4\u001b[0m \u001b[1;32mdef\u001b[0m \u001b[0mconvertBinaryArrayToNumber\u001b[0m\u001b[1;33m(\u001b[0m\u001b[0marray\u001b[0m\u001b[1;33m)\u001b[0m\u001b[1;33m:\u001b[0m\u001b[1;33m\u001b[0m\u001b[0m\n\u001b[0;32m      5\u001b[0m     \u001b[0mnumber\u001b[0m\u001b[1;33m=\u001b[0m\u001b[1;36m0\u001b[0m\u001b[1;33m\u001b[0m\u001b[0m\n\u001b[1;32m----> 6\u001b[1;33m     \u001b[0marray\u001b[0m\u001b[1;33m.\u001b[0m\u001b[0mreverse\u001b[0m\u001b[1;33m(\u001b[0m\u001b[1;33m)\u001b[0m\u001b[1;33m\u001b[0m\u001b[0m\n\u001b[0m\u001b[0;32m      7\u001b[0m     \u001b[0mi\u001b[0m\u001b[1;33m=\u001b[0m\u001b[1;36m0\u001b[0m\u001b[1;33m\u001b[0m\u001b[0m\n\u001b[0;32m      8\u001b[0m     \u001b[1;32mfor\u001b[0m \u001b[0mval\u001b[0m \u001b[1;32min\u001b[0m \u001b[0marray\u001b[0m\u001b[1;33m:\u001b[0m\u001b[1;33m\u001b[0m\u001b[0m\n",
      "\u001b[1;31mAttributeError\u001b[0m: 'numpy.float64' object has no attribute 'reverse'"
     ]
    }
   ],
   "source": [
    "import warnings\n",
    "warnings.filterwarnings('ignore')\n",
    "\n",
    "def convertBinaryArrayToNumber(array):\n",
    "    number=0\n",
    "    array.reverse()\n",
    "    i=0\n",
    "    for val in array:\n",
    "        number=number+val*pow(2,i)\n",
    "        i=i+1\n",
    "    return number\n",
    "        \n",
    "def convertCodeToNumber(data):\n",
    "    category_decode=[]\n",
    "    neighbor_category_decode=[]\n",
    "    for cat_code,n_cat_code in zip(data['Category Code'],data['Food-Related Neighbor Category Codes']):\n",
    "        category_decode.append(convertBinaryArrayToNumber(cat_code))\n",
    "        neighbor_category_decode.append(convertBinaryArrayToNumber(n_cat_code))\n",
    "        #category_decode.append(lb.inverse_transform(cat_code))\n",
    "        #neighbor_category_decode.append(ib.inverse_transform(n_cat_code))\n",
    "        \n",
    "    return category_decode,neighbor_category_decode\n",
    "        \n",
    "\n",
    "category_decode,neighbor_category_decode=convertCodeToNumber(X_train)  \n",
    "X_train['Category Code']=pd.Series(category_decode)\n",
    "X_train['Food-Related Neighbor Category Codes']=pd.Series(neighbor_category_decode)\n"
   ]
  },
  {
   "cell_type": "code",
   "execution_count": 77,
   "metadata": {
    "collapsed": false
   },
   "outputs": [],
   "source": [
    "import numpy as np\n",
    "\n",
    "#rgr.fit(X_train.as_matrix,Y_train.values)\n",
    "X_train['Category Code'] = X_train['Category Code'].astype('float64')\n",
    "X_train['Food-Related Neighbor Category Codes'] = X_train['Food-Related Neighbor Category Codes'].astype('float64')\n",
    "X_train['Food-Related Neighbor Total Check-Ins'] = X_train['Food-Related Neighbor Total Check-Ins'].astype('float64')\n",
    "X_train['Food-Related Neighbor Average Check-Ins'] = X_train['Food-Related Neighbor Average Check-Ins'].astype('float64')\n",
    "X_train['All Neighbor Total Check-Ins'] = X_train['All Neighbor Total Check-Ins'].astype('float64')\n",
    "X_train['All Neighbor Average Check-Ins'] = X_train['All Neighbor Average Check-Ins'].astype('float64')\n",
    "X_train\n",
    "\n",
    "\n",
    "Y_train['Check-Ins']=Y_train['Check-Ins'].astype('float64')\n",
    "\n",
    "\n",
    "#X_train.describe()\n",
    "#Y_train.values.shape\n",
    "#rgr.fit(X_train.as_matrix,Y_train.values)"
   ]
  },
  {
   "cell_type": "code",
   "execution_count": 78,
   "metadata": {
    "collapsed": false
   },
   "outputs": [
    {
     "ename": "TypeError",
     "evalue": "float() argument must be a string or a number",
     "output_type": "error",
     "traceback": [
      "\u001b[1;31m-----------------------------------------------------------------------\u001b[0m",
      "\u001b[1;31mTypeError\u001b[0m                             Traceback (most recent call last)",
      "\u001b[1;32m<ipython-input-78-bf4380056f54>\u001b[0m in \u001b[0;36m<module>\u001b[1;34m()\u001b[0m\n\u001b[1;32m----> 1\u001b[1;33m \u001b[0mrgr\u001b[0m\u001b[1;33m.\u001b[0m\u001b[0mfit\u001b[0m\u001b[1;33m(\u001b[0m\u001b[0mX_train\u001b[0m\u001b[1;33m.\u001b[0m\u001b[0mas_matrix\u001b[0m\u001b[1;33m,\u001b[0m\u001b[0mY_train\u001b[0m\u001b[1;33m.\u001b[0m\u001b[0mvalues\u001b[0m\u001b[1;33m)\u001b[0m\u001b[1;33m\u001b[0m\u001b[0m\n\u001b[0m",
      "\u001b[1;32m/home/avhirup/anaconda2/lib/python2.7/site-packages/sklearn/linear_model/base.pyc\u001b[0m in \u001b[0;36mfit\u001b[1;34m(self, X, y, sample_weight)\u001b[0m\n\u001b[0;32m    425\u001b[0m         \u001b[0mn_jobs_\u001b[0m \u001b[1;33m=\u001b[0m \u001b[0mself\u001b[0m\u001b[1;33m.\u001b[0m\u001b[0mn_jobs\u001b[0m\u001b[1;33m\u001b[0m\u001b[0m\n\u001b[0;32m    426\u001b[0m         X, y = check_X_y(X, y, accept_sparse=['csr', 'csc', 'coo'],\n\u001b[1;32m--> 427\u001b[1;33m                          y_numeric=True, multi_output=True)\n\u001b[0m\u001b[0;32m    428\u001b[0m \u001b[1;33m\u001b[0m\u001b[0m\n\u001b[0;32m    429\u001b[0m         \u001b[1;32mif\u001b[0m \u001b[1;33m(\u001b[0m\u001b[1;33m(\u001b[0m\u001b[0msample_weight\u001b[0m \u001b[1;32mis\u001b[0m \u001b[1;32mnot\u001b[0m \u001b[0mNone\u001b[0m\u001b[1;33m)\u001b[0m \u001b[1;32mand\u001b[0m \u001b[0mnp\u001b[0m\u001b[1;33m.\u001b[0m\u001b[0matleast_1d\u001b[0m\u001b[1;33m(\u001b[0m\u001b[0msample_weight\u001b[0m\u001b[1;33m)\u001b[0m\u001b[1;33m.\u001b[0m\u001b[0mndim\u001b[0m \u001b[1;33m>\u001b[0m \u001b[1;36m1\u001b[0m\u001b[1;33m)\u001b[0m\u001b[1;33m:\u001b[0m\u001b[1;33m\u001b[0m\u001b[0m\n",
      "\u001b[1;32m/home/avhirup/anaconda2/lib/python2.7/site-packages/sklearn/utils/validation.pyc\u001b[0m in \u001b[0;36mcheck_X_y\u001b[1;34m(X, y, accept_sparse, dtype, order, copy, force_all_finite, ensure_2d, allow_nd, multi_output, ensure_min_samples, ensure_min_features, y_numeric, warn_on_dtype, estimator)\u001b[0m\n\u001b[0;32m    508\u001b[0m     X = check_array(X, accept_sparse, dtype, order, copy, force_all_finite,\n\u001b[0;32m    509\u001b[0m                     \u001b[0mensure_2d\u001b[0m\u001b[1;33m,\u001b[0m \u001b[0mallow_nd\u001b[0m\u001b[1;33m,\u001b[0m \u001b[0mensure_min_samples\u001b[0m\u001b[1;33m,\u001b[0m\u001b[1;33m\u001b[0m\u001b[0m\n\u001b[1;32m--> 510\u001b[1;33m                     ensure_min_features, warn_on_dtype, estimator)\n\u001b[0m\u001b[0;32m    511\u001b[0m     \u001b[1;32mif\u001b[0m \u001b[0mmulti_output\u001b[0m\u001b[1;33m:\u001b[0m\u001b[1;33m\u001b[0m\u001b[0m\n\u001b[0;32m    512\u001b[0m         y = check_array(y, 'csr', force_all_finite=True, ensure_2d=False,\n",
      "\u001b[1;32m/home/avhirup/anaconda2/lib/python2.7/site-packages/sklearn/utils/validation.pyc\u001b[0m in \u001b[0;36mcheck_array\u001b[1;34m(array, accept_sparse, dtype, order, copy, force_all_finite, ensure_2d, allow_nd, ensure_min_samples, ensure_min_features, warn_on_dtype, estimator)\u001b[0m\n\u001b[0;32m    391\u001b[0m         \u001b[1;31m# make sure we acually converted to numeric:\u001b[0m\u001b[1;33m\u001b[0m\u001b[1;33m\u001b[0m\u001b[0m\n\u001b[0;32m    392\u001b[0m         \u001b[1;32mif\u001b[0m \u001b[0mdtype_numeric\u001b[0m \u001b[1;32mand\u001b[0m \u001b[0marray\u001b[0m\u001b[1;33m.\u001b[0m\u001b[0mdtype\u001b[0m\u001b[1;33m.\u001b[0m\u001b[0mkind\u001b[0m \u001b[1;33m==\u001b[0m \u001b[1;34m\"O\"\u001b[0m\u001b[1;33m:\u001b[0m\u001b[1;33m\u001b[0m\u001b[0m\n\u001b[1;32m--> 393\u001b[1;33m             \u001b[0marray\u001b[0m \u001b[1;33m=\u001b[0m \u001b[0marray\u001b[0m\u001b[1;33m.\u001b[0m\u001b[0mastype\u001b[0m\u001b[1;33m(\u001b[0m\u001b[0mnp\u001b[0m\u001b[1;33m.\u001b[0m\u001b[0mfloat64\u001b[0m\u001b[1;33m)\u001b[0m\u001b[1;33m\u001b[0m\u001b[0m\n\u001b[0m\u001b[0;32m    394\u001b[0m         \u001b[1;32mif\u001b[0m \u001b[1;32mnot\u001b[0m \u001b[0mallow_nd\u001b[0m \u001b[1;32mand\u001b[0m \u001b[0marray\u001b[0m\u001b[1;33m.\u001b[0m\u001b[0mndim\u001b[0m \u001b[1;33m>=\u001b[0m \u001b[1;36m3\u001b[0m\u001b[1;33m:\u001b[0m\u001b[1;33m\u001b[0m\u001b[0m\n\u001b[0;32m    395\u001b[0m             raise ValueError(\"Found array with dim %d. %s expected <= 2.\"\n",
      "\u001b[1;31mTypeError\u001b[0m: float() argument must be a string or a number"
     ]
    }
   ],
   "source": [
    "rgr.fit(X_train.as_matrix,Y_train.values)"
   ]
  },
  {
   "cell_type": "code",
   "execution_count": null,
   "metadata": {
    "collapsed": true
   },
   "outputs": [],
   "source": []
  },
  {
   "cell_type": "code",
   "execution_count": null,
   "metadata": {
    "collapsed": true
   },
   "outputs": [],
   "source": []
  }
 ],
 "metadata": {
  "kernelspec": {
   "display_name": "Python [Root]",
   "language": "python",
   "name": "Python [Root]"
  },
  "language_info": {
   "codemirror_mode": {
    "name": "ipython",
    "version": 2
   },
   "file_extension": ".py",
   "mimetype": "text/x-python",
   "name": "python",
   "nbconvert_exporter": "python",
   "pygments_lexer": "ipython2",
   "version": "2.7.12"
  }
 },
 "nbformat": 4,
 "nbformat_minor": 0
}
