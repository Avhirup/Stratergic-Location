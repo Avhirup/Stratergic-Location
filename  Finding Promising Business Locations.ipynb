{
 "cells": [
  {
   "cell_type": "markdown",
   "metadata": {},
   "source": [
    "## Strategic Location using Facebook Analytics\n",
    "\n",
    "If you were to open your own cafe, would you not want to effortlessly identify the most suitable location to set up your shop? Choosing an optimal physical location is a critical decision for numerous businesses, as many factors contribute to the final choice of the location.\n",
    "Features selected:\n",
    "* category of cafe\n",
    "* category of neighboring cafes\n",
    "* checkins of localities"
   ]
  },
  {
   "cell_type": "code",
   "execution_count": 4,
   "metadata": {
    "collapsed": false
   },
   "outputs": [
    {
     "data": {
      "text/plain": [
       "[u'Bar & Grill',\n",
       " u'Barbecue Restaurant',\n",
       " u'Indian Restaurant',\n",
       " u'Bar & Grill',\n",
       " u'Food & Beverage',\n",
       " u'Food & Beverage Company',\n",
       " u'Lounge',\n",
       " u'Coffee Shop',\n",
       " u'Asian Fusion Restaurant',\n",
       " u'Vegetarian/Vegan Restaurant',\n",
       " u'Hotel',\n",
       " u'Fast Food Restaurant',\n",
       " u'Tapas Bar & Restaurant',\n",
       " u'Restaurant',\n",
       " u'Diner',\n",
       " u'Restaurant',\n",
       " u'Coffee Shop',\n",
       " u'Tex-Mex Restaurant',\n",
       " u'Family Style Restaurant',\n",
       " u'Soup Restaurant',\n",
       " u'Hotel',\n",
       " u'Bar',\n",
       " u'Pub',\n",
       " u'Bar & Grill',\n",
       " u'Hotel',\n",
       " u'Indian Chinese Restaurant',\n",
       " u'Family Style Restaurant',\n",
       " u'Indian Restaurant',\n",
       " u'Hotel & Lodging',\n",
       " u'Sports Bar',\n",
       " u'Italian Restaurant',\n",
       " u'Hotel',\n",
       " u'Food & Beverage',\n",
       " u'Restaurant',\n",
       " u'Hotel',\n",
       " u'Diner',\n",
       " u'Coffee Shop',\n",
       " u'Hotel Resort',\n",
       " u'French Restaurant',\n",
       " u'Caterer',\n",
       " u'Burger Restaurant',\n",
       " u'Diner',\n",
       " u'Fruit & Vegetable Store',\n",
       " u'Indian Restaurant',\n",
       " u'Continental Restaurant',\n",
       " u'Cafe',\n",
       " u'Indian Restaurant',\n",
       " u'Bar',\n",
       " u'Asian Restaurant',\n",
       " u'Bar & Grill',\n",
       " u'Hotel & Lodging',\n",
       " u'Indian Restaurant',\n",
       " u'Fast Food Restaurant',\n",
       " u'Diner',\n",
       " u'Restaurant',\n",
       " u'Restaurant',\n",
       " u'Restaurant',\n",
       " u'Lounge',\n",
       " u'Hotel',\n",
       " u'Restaurant',\n",
       " u'Food & Beverage',\n",
       " u'Hotel & Lodging',\n",
       " u'Hotel',\n",
       " u'Asian Restaurant',\n",
       " u'Buffet Restaurant',\n",
       " u'Hotel',\n",
       " u'Lounge',\n",
       " u'Fast Food Restaurant',\n",
       " u'Restaurant',\n",
       " u'Food & Beverage',\n",
       " u'Lounge',\n",
       " u'Italian Restaurant',\n",
       " u'Fast Food Restaurant',\n",
       " u'Cafe',\n",
       " u'Sports Bar',\n",
       " u'Bar',\n",
       " u'Food Wholesaler',\n",
       " u'Lounge']"
      ]
     },
     "execution_count": 4,
     "metadata": {},
     "output_type": "execute_result"
    }
   ],
   "source": [
    "#preprocessing\n",
    "import pandas as pd\n",
    "import numpy as np\n",
    "\n",
    "def toDataFrame(jsonFile):\n",
    "    data=pd.read_json(jsonFile)\n",
    "    data=data.as_matrix()\n",
    "    data= data.transpose()\n",
    "    data=pd.DataFrame(data,columns=['Category','Check-Ins','Latitude','Likes','Longitude','Name'])\n",
    "    return data\n",
    "\n",
    "def filterFoodRelated(data):\n",
    "    totalIndex=0\n",
    "    remIndex=[]\n",
    "    keepIndex=[]\n",
    "    uniqueCategories=[]\n",
    "    frConstraints=['Diner','Fruit','Vegetable','Caterer','Bar','Pub','Grill','Hotel','Restaurant','Lounge','Pizza Place','Dessert Shop','Coffee','Food','Beverage','Cafe']\n",
    "    for index,rows in data.iterrows():\n",
    "        #print index,rows['Category']\n",
    "        for cat in rows['Category']:\n",
    "            categorysublist=cat.split(' ')\n",
    "            if len(set(categorysublist).intersection(frConstraints))>0:\n",
    "                keepIndex.append(index)\n",
    "                uniqueCategories.append(cat)\n",
    "                break\n",
    "            \n",
    "        totalIndex=index\n",
    "    remIndex=list(set(range(totalIndex+1))-set(keepIndex))\n",
    "    data=data.drop(data.index[remIndex]).reset_index(drop=True)\n",
    "    return data,setuniqueCategories\n",
    "    \n",
    "fbData=toDataFrame('fbData.json')\n",
    "data,uniqueCategories=filterFoodRelated(fbData)\n",
    "uniqueCategories"
   ]
  },
  {
   "cell_type": "code",
   "execution_count": null,
   "metadata": {
    "collapsed": true
   },
   "outputs": [],
   "source": []
  }
 ],
 "metadata": {
  "kernelspec": {
   "display_name": "Python [Root]",
   "language": "python",
   "name": "Python [Root]"
  },
  "language_info": {
   "codemirror_mode": {
    "name": "ipython",
    "version": 2
   },
   "file_extension": ".py",
   "mimetype": "text/x-python",
   "name": "python",
   "nbconvert_exporter": "python",
   "pygments_lexer": "ipython2",
   "version": "2.7.12"
  }
 },
 "nbformat": 4,
 "nbformat_minor": 0
}
